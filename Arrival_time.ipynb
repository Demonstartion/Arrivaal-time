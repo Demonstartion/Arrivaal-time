{
  "nbformat": 4,
  "nbformat_minor": 0,
  "metadata": {
    "colab": {
      "name": "Arrival time.ipynb",
      "provenance": []
    },
    "kernelspec": {
      "name": "python3",
      "display_name": "Python 3"
    }
  },
  "cells": [
    {
      "cell_type": "markdown",
      "metadata": {
        "id": "obbLLZdHHOf-",
        "colab_type": "text"
      },
      "source": [
        "# Problem"
      ]
    },
    {
      "cell_type": "markdown",
      "metadata": {
        "id": "bkfdOAHp6Gdw",
        "colab_type": "text"
      },
      "source": [
        "Date: 25 June 2020\n",
        "\n",
        "Time : 16:30\n",
        "\n",
        "Main problem: Arrival-time estimation\n"
      ]
    },
    {
      "cell_type": "markdown",
      "metadata": {
        "id": "PIkx-IrC9qil",
        "colab_type": "text"
      },
      "source": [
        "### Problem statement: Umniah aims at estimating the arrival times of its employees..\n",
        "\n",
        "- An appropriate holistic approach to solve this problem is \"Profiling\": building a profile/model that describes a person's behavior.\n",
        "\n",
        "- Simple examples will demonstrate the concept below.\n",
        "\n",
        "### Note:\n",
        "\n",
        "I should point out that there are several ways to solve this problem and selecting an appropriate approach depends on some business related issues such as:\n",
        "\n",
        "- Who the client is and why s/he needs this\n",
        "- where this system will be deployed (the bigger system)\n",
        "- The available data"
      ]
    },
    {
      "cell_type": "markdown",
      "metadata": {
        "id": "pdBLzOZRMoTR",
        "colab_type": "text"
      },
      "source": [
        "### The profile/model: the probability of a delay in minutes (The prior*).\n",
        "*That model is the back-pone for solving such problems."
      ]
    },
    {
      "cell_type": "markdown",
      "metadata": {
        "id": "a_tTly0NjH1Q",
        "colab_type": "text"
      },
      "source": [
        "## Employee 1: Long tail distribution"
      ]
    },
    {
      "cell_type": "markdown",
      "metadata": {
        "id": "zT5jzEUZQ5SZ",
        "colab_type": "text"
      },
      "source": [
        "- This example tests the effectiveness of this method.\n",
        "- A well know behavor is assumed (An employee who usually arrives on time: a standard delay 'Poisson'). \n",
        "- The arrival times were generated from a well-known model, then the  generated data were used to reconstruct the origional model"
      ]
    },
    {
      "cell_type": "code",
      "metadata": {
        "id": "7IdrRxJMjA9c",
        "colab_type": "code",
        "colab": {
          "base_uri": "https://localhost:8080/",
          "height": 279
        },
        "outputId": "8083c9be-5c72-4b1a-f241-662ae20fa021"
      },
      "source": [
        "import numpy as np\n",
        "import matplotlib.pyplot as plt\n",
        "from numpy import random\n",
        "\n",
        "lamb = 10\n",
        "x = np.linspace(0, 100, 10000)\n",
        "pdf = np.exp(-x/lamb)/lamb\n",
        "\n",
        "plt.plot(x, pdf, 'bs')\n",
        "pyplot.xlabel(\" Delay in minutes\")\n",
        "\n",
        "plt.show()"
      ],
      "execution_count": 22,
      "outputs": [
        {
          "output_type": "display_data",
          "data": {
            "image/png": "[encoded data removed]",
            "text/plain": [
              "<Figure size 432x288 with 1 Axes>"
            ]
          },
          "metadata": {
            "tags": [],
            "needs_background": "light"
          }
        }
      ]
    },
    {
      "cell_type": "code",
      "metadata": {
        "id": "dCmVK2FqsPT_",
        "colab_type": "code",
        "colab": {}
      },
      "source": [
        "#Generate arrival times from the distribution using MC method\n",
        "y = -lamb*np.log(1 - random.rand(10000))"
      ],
      "execution_count": 7,
      "outputs": []
    },
    {
      "cell_type": "code",
      "metadata": {
        "id": "XguzLSRRf04E",
        "colab_type": "code",
        "colab": {
          "base_uri": "https://localhost:8080/",
          "height": 34
        },
        "outputId": "78b3ae8f-624e-4821-99a6-e2bac32eef31"
      },
      "source": [
        "min(y)"
      ],
      "execution_count": 8,
      "outputs": [
        {
          "output_type": "execute_result",
          "data": {
            "text/plain": [
              "0.003073138335181304"
            ]
          },
          "metadata": {
            "tags": []
          },
          "execution_count": 8
        }
      ]
    },
    {
      "cell_type": "code",
      "metadata": {
        "id": "XzqZZGXegYUH",
        "colab_type": "code",
        "colab": {
          "base_uri": "https://localhost:8080/",
          "height": 34
        },
        "outputId": "e627f586-b686-4ade-bd72-791eb65aae04"
      },
      "source": [
        "max(y)"
      ],
      "execution_count": 9,
      "outputs": [
        {
          "output_type": "execute_result",
          "data": {
            "text/plain": [
              "87.50751387244725"
            ]
          },
          "metadata": {
            "tags": []
          },
          "execution_count": 9
        }
      ]
    },
    {
      "cell_type": "code",
      "metadata": {
        "id": "N8C5QFWQGPwG",
        "colab_type": "code",
        "colab": {
          "base_uri": "https://localhost:8080/",
          "height": 265
        },
        "outputId": "e216420d-3058-44d2-ffba-c497750b80ba"
      },
      "source": [
        "hist = plt.hist(y, bins=100)"
      ],
      "execution_count": 10,
      "outputs": [
        {
          "output_type": "display_data",
          "data": {
            "image/png": "[encoded data removed]",
            "text/plain": [
              "<Figure size 432x288 with 1 Axes>"
            ]
          },
          "metadata": {
            "tags": [],
            "needs_background": "light"
          }
        }
      ]
    },
    {
      "cell_type": "markdown",
      "metadata": {
        "id": "-d9kb1D9C6DL",
        "colab_type": "text"
      },
      "source": [
        "Estimate the arrival time prior"
      ]
    },
    {
      "cell_type": "code",
      "metadata": {
        "id": "w8w6ZM2YSFrw",
        "colab_type": "code",
        "colab": {
          "base_uri": "https://localhost:8080/",
          "height": 300
        },
        "outputId": "70118f67-0d87-4929-c7d5-1f6dda109dff"
      },
      "source": [
        "from sklearn.neighbors import KernelDensity\n",
        "\n",
        "# instantiate and fit the KDE model\n",
        "kde = KernelDensity(bandwidth=2, kernel='linear')\n",
        "kde.fit(y[:, None])\n",
        "\n",
        "# score_samples returns the log of the probability density\n",
        "logprob = kde.score_samples(x[:, None])\n",
        "yp = np.exp(logprob)\n",
        "\n",
        "#plot\n",
        "plt.fill_between(x, yp, alpha=0.5)\n",
        "plt.plot(y, np.full_like(y, -0.01), '|k', markeredgewidth=1)\n",
        "pyplot.xlabel(\"Employee1 : delay in minutes\")\n",
        "plt.ylim(-0.02, 0.1)"
      ],
      "execution_count": 36,
      "outputs": [
        {
          "output_type": "execute_result",
          "data": {
            "text/plain": [
              "(-0.02, 0.1)"
            ]
          },
          "metadata": {
            "tags": []
          },
          "execution_count": 36
        },
        {
          "output_type": "display_data",
          "data": {
            "image/png": "[encoded data removed]",
            "text/plain": [
              "<Figure size 432x288 with 1 Axes>"
            ]
          },
          "metadata": {
            "tags": [],
            "needs_background": "light"
          }
        }
      ]
    },
    {
      "cell_type": "markdown",
      "metadata": {
        "id": "z1AKar1xDzYq",
        "colab_type": "text"
      },
      "source": [
        "Evaluation: mean square error"
      ]
    },
    {
      "cell_type": "code",
      "metadata": {
        "id": "w2C2Cgm9lUJf",
        "colab_type": "code",
        "colab": {
          "base_uri": "https://localhost:8080/",
          "height": 34
        },
        "outputId": "e3c5e32a-9e0f-425b-82a8-6203ac1bd8a3"
      },
      "source": [
        "print('MSE:',np.mean((pdf-yp)**2))"
      ],
      "execution_count": 37,
      "outputs": [
        {
          "output_type": "stream",
          "text": [
            "MSE: 1.0395537676094016e-05\n"
          ],
          "name": "stdout"
        }
      ]
    },
    {
      "cell_type": "markdown",
      "metadata": {
        "id": "MljOj6LWmIWw",
        "colab_type": "text"
      },
      "source": [
        "## Employee 2: Actual distribution"
      ]
    },
    {
      "cell_type": "markdown",
      "metadata": {
        "id": "QHlSBSoJQRgD",
        "colab_type": "text"
      },
      "source": [
        "An employee arrives 10 minutes late on average.\n",
        "Only 100 records are available"
      ]
    },
    {
      "cell_type": "code",
      "metadata": {
        "id": "PcLkAJialupO",
        "colab_type": "code",
        "colab": {
          "base_uri": "https://localhost:8080/",
          "height": 119
        },
        "outputId": "4283efda-8595-4d3e-ff86-55c205745fb8"
      },
      "source": [
        "# Generate from Poisson distribution\n",
        "employee2_delay = random.poisson(lam=10, size=100)\n",
        "employee2_delay"
      ],
      "execution_count": 49,
      "outputs": [
        {
          "output_type": "execute_result",
          "data": {
            "text/plain": [
              "array([12,  9, 13,  7,  5,  6,  7,  8, 14,  9, 10, 10,  7, 10, 14, 10, 12,\n",
              "        6,  6,  9, 10,  7, 16,  6, 13,  9, 12, 10,  6,  9, 11,  9, 11, 12,\n",
              "        9,  7, 17, 10,  6, 10, 16,  9, 14, 12, 13,  7, 10, 14,  7,  9,  8,\n",
              "       11, 14, 10, 15, 10,  8,  9,  6, 10,  9, 18, 11, 11, 14, 10, 10, 12,\n",
              "       15, 13,  5, 12,  8, 12,  9,  7,  5,  9,  8,  5,  9, 12,  9, 10,  4,\n",
              "       11, 11,  9,  9, 15,  8,  7, 10, 13,  7, 10, 13,  8, 17,  9])"
            ]
          },
          "metadata": {
            "tags": []
          },
          "execution_count": 49
        }
      ]
    },
    {
      "cell_type": "code",
      "metadata": {
        "id": "-KyY5SHBlukD",
        "colab_type": "code",
        "colab": {
          "base_uri": "https://localhost:8080/",
          "height": 265
        },
        "outputId": "cd213445-a0b2-4439-b87d-5f51889053e1"
      },
      "source": [
        "from matplotlib import pyplot\n",
        "pyplot.hist(employee2_delay, bins=13)\n",
        "pyplot.show()"
      ],
      "execution_count": 50,
      "outputs": [
        {
          "output_type": "display_data",
          "data": {
            "image/png": "[encoded data removed]",
            "text/plain": [
              "<Figure size 432x288 with 1 Axes>"
            ]
          },
          "metadata": {
            "tags": [],
            "needs_background": "light"
          }
        }
      ]
    },
    {
      "cell_type": "code",
      "metadata": {
        "id": "CR_OC0zSlprE",
        "colab_type": "code",
        "colab": {
          "base_uri": "https://localhost:8080/",
          "height": 279
        },
        "outputId": "b40a3389-825a-4eaa-85ef-60bfcf738bc4"
      },
      "source": [
        "# fit density\n",
        "sample = employee2_delay\n",
        "model2 = KernelDensity(bandwidth=2, kernel='exponential')\n",
        "sample = sample.reshape((len(sample), 1))\n",
        "model2.fit(sample)\n",
        "\n",
        "\n",
        "# sample probabilities for a range of outcomes\n",
        "values = np.asarray([value for value in range(1, 25)])\n",
        "values = values.reshape((len(values), 1))\n",
        "probabilities = model2.score_samples(values)\n",
        "probabilities = np.exp(probabilities)\n",
        "\n",
        "\n",
        "# plot the histogram and pdf\n",
        "pyplot.plot(values[:], probabilities)\n",
        "pyplot.xlabel(\"Employee2 : delay in minutes\")\n",
        "pyplot.show()"
      ],
      "execution_count": 56,
      "outputs": [
        {
          "output_type": "display_data",
          "data": {
            "image/png": "[encoded data removed]",
            "text/plain": [
              "<Figure size 432x288 with 1 Axes>"
            ]
          },
          "metadata": {
            "tags": [],
            "needs_background": "light"
          }
        }
      ]
    }
  ]
}